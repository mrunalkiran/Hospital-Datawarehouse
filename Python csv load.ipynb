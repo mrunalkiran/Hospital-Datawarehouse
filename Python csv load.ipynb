{
 "cells": [
  {
   "cell_type": "code",
   "execution_count": 31,
   "metadata": {},
   "outputs": [
    {
     "name": "stdout",
     "output_type": "stream",
     "text": [
      "Uploading: /Users/mrunal_kiran/Desktop/Assignments/Sem2/Data Warehousing/Data/Complications_and_Deaths-Hospital.csv to Snowflake (RAW schema)...\n",
      "Uploading: /Users/mrunal_kiran/Desktop/Assignments/Sem2/Data Warehousing/Data/Healthcare_Associated_Infections-Hospital.csv to Snowflake (RAW schema)...\n",
      "Uploading: /Users/mrunal_kiran/Desktop/Assignments/Sem2/Data Warehousing/Data/Hospital_General_Information.csv to Snowflake (RAW schema)...\n",
      "Uploading: /Users/mrunal_kiran/Desktop/Assignments/Sem2/Data Warehousing/Data/Outpatient_Imaging_Efficiency-Hospital.csv to Snowflake (RAW schema)...\n",
      "Uploading: /Users/mrunal_kiran/Desktop/Assignments/Sem2/Data Warehousing/Data/Payment_and_Value_of_Care-Hospital.csv to Snowflake (RAW schema)...\n",
      "Uploading: /Users/mrunal_kiran/Desktop/Assignments/Sem2/Data Warehousing/Data/Timely_and_Effective_Care-Hospital.csv to Snowflake (RAW schema)...\n",
      "✅ Files successfully staged in RAW schema!\n"
     ]
    }
   ],
   "source": [
    "import snowflake.connector\n",
    "import os\n",
    "\n",
    "# Connect to Snowflake\n",
    "conn = snowflake.connector.connect(\n",
    "    user='mrunalkiran',  \n",
    "    password='Mrunalkiran@281299',  \n",
    "    account='fl05287.us-central1.gcp',\n",
    "    warehouse='COMPUTE_WH',  \n",
    "    database='HOSPITAL_DWH',\n",
    "    schema='RAW'\n",
    ")\n",
    "cur = conn.cursor()\n",
    "\n",
    "# ✅ Explicitly set the database and schema to avoid stage PUT errors\n",
    "cur.execute(\"USE DATABASE HOSPITAL_DWH;\")\n",
    "cur.execute(\"USE SCHEMA RAW;\")\n",
    "cur.execute(\"USE WAREHOUSE COMPUTE_WH;\")  # Ensure correct warehouse\n",
    "\n",
    "# Define the directory where your CSV files are stored\n",
    "file_directory = \"/Users/mrunal_kiran/Desktop/Assignments/Sem2/Data Warehousing/Data\"\n",
    "\n",
    "# List of files to be uploaded\n",
    "files = [\n",
    "    \"Complications_and_Deaths-Hospital.csv\",\n",
    "    \"Healthcare_Associated_Infections-Hospital.csv\",\n",
    "    \"Hospital_General_Information.csv\",\n",
    "    \"Outpatient_Imaging_Efficiency-Hospital.csv\",\n",
    "    \"Payment_and_Value_of_Care-Hospital.csv\",\n",
    "    \"Timely_and_Effective_Care-Hospital.csv\"\n",
    "]\n",
    "\n",
    "# Upload each file to the RAW schema stage\n",
    "for file in files:\n",
    "    file_path = os.path.join(file_directory, file)  # Construct full path\n",
    "\n",
    "    # ✅ Ensure correct syntax for the PUT command\n",
    "    stage_query = f\"PUT 'file://{file_path}' @RAW.HOSPITALSTAGE AUTO_COMPRESS=TRUE;\"\n",
    "\n",
    "    print(f\"Uploading: {file_path} to Snowflake (RAW schema)...\")\n",
    "\n",
    "    cur.execute(stage_query)  # ✅ FIXED: Using the correct variable\n",
    "\n",
    "print(\"✅ Files successfully staged in RAW schema!\")\n",
    "\n",
    "# Close the connection\n",
    "cur.close()\n",
    "conn.close()"
   ]
  }
 ],
 "metadata": {
  "kernelspec": {
   "display_name": "Python 3",
   "language": "python",
   "name": "python3"
  },
  "language_info": {
   "codemirror_mode": {
    "name": "ipython",
    "version": 3
   },
   "file_extension": ".py",
   "mimetype": "text/x-python",
   "name": "python",
   "nbconvert_exporter": "python",
   "pygments_lexer": "ipython3",
   "version": "3.9.6"
  }
 },
 "nbformat": 4,
 "nbformat_minor": 2
}
